{
 "cells": [
  {
   "cell_type": "code",
   "execution_count": 4,
   "metadata": {},
   "outputs": [
    {
     "name": "stdout",
     "output_type": "stream",
     "text": [
      "['Sahil', 'Raj', 'Vighu', 'Methi', 'Shwtz']\n",
      "Shwtz\n",
      "['Sahil', 'Raj', 'Vighu', 'Methi']\n",
      "Methi\n",
      "['Sahil', 'Raj', 'Vighu']\n"
     ]
    }
   ],
   "source": [
    "\n",
    "# stack using list \n",
    "stack = [\"Sahil\", \"Raj\", \"Vighu\"] \n",
    "stack.append(\"Methi\") \n",
    "stack.append(\"Shwtz\") \n",
    "print(stack) \n",
    "\n",
    "# Removes the last item \n",
    "print(stack.pop()) \n",
    "\n",
    "print(stack) \n",
    "\n",
    "# Removes the last item \n",
    "print(stack.pop()) \n",
    "\n",
    "print(stack) \n"
   ]
  },
  {
   "cell_type": "code",
   "execution_count": 6,
   "metadata": {},
   "outputs": [
    {
     "name": "stdout",
     "output_type": "stream",
     "text": [
      "['Sahil', 'Premraj', 'Onkar', 'Mahesh', 'Anjali']\n",
      "Sahil\n",
      "['Premraj', 'Onkar', 'Mahesh', 'Anjali']\n",
      "Premraj\n",
      "['Onkar', 'Mahesh', 'Anjali']\n"
     ]
    }
   ],
   "source": [
    "\n",
    "# Queue using list \n",
    "queue = [\"Sahil\", \"Premraj\", \"Onkar\"] \n",
    "queue.append(\"Mahesh\") \n",
    "queue.append(\"Anjali\") \n",
    "print(queue) \n",
    "\n",
    "# Removes the first item \n",
    "print(queue.pop(0)) \n",
    "\n",
    "print(queue) \n",
    "\n",
    "# Removes the first item \n",
    "print(queue.pop(0)) \n",
    "\n",
    "print(queue) \n"
   ]
  },
  {
   "cell_type": "code",
   "execution_count": null,
   "metadata": {},
   "outputs": [],
   "source": []
  }
 ],
 "metadata": {
  "kernelspec": {
   "display_name": "Python 3",
   "language": "python",
   "name": "python3"
  },
  "language_info": {
   "codemirror_mode": {
    "name": "ipython",
    "version": 3
   },
   "file_extension": ".py",
   "mimetype": "text/x-python",
   "name": "python",
   "nbconvert_exporter": "python",
   "pygments_lexer": "ipython3",
   "version": "3.7.6"
  }
 },
 "nbformat": 4,
 "nbformat_minor": 4
}
