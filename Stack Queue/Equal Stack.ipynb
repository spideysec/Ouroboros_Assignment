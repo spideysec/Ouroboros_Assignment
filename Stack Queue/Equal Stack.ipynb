{
 "cells": [
  {
   "cell_type": "code",
   "execution_count": null,
   "metadata": {},
   "outputs": [],
   "source": [
    "'''\n",
    "You have three stacks of cylinders where each cylinder has the same diameter, but they may vary in height. You can change the height of a stack by removing and discarding its topmost cylinder any number of times.\n",
    "\n",
    "Find the maximum possible height of the stacks such that all of the stacks are exactly the same height. This means you must remove zero or more cylinders from the top of zero or more of the three stacks until they're all the same height, then print the height. The removals must be performed in such a way as to maximize the height.\n",
    "\n",
    "Note: An empty stack is still a stack.\n",
    "\n",
    "Input Format\n",
    "\n",
    "The first line contains three space-separated integers,\n",
    ", , and , describing the respective number of cylinders in stacks , , and\n",
    "\n",
    ". The subsequent lines describe the respective heights of each cylinder in a stack from top to bottom:\n",
    "\n",
    "    The second line contains \n",
    "\n",
    "space-separated integers describing the cylinder heights in stack\n",
    ". The first element is the top of the stack.\n",
    "The third line contains\n",
    "space-separated integers describing the cylinder heights in stack\n",
    ". The first element is the top of the stack.\n",
    "The fourth line contains\n",
    "space-separated integers describing the cylinder heights in stack\n",
    "\n",
    "    . The first element is the top of the stack.\n",
    "\n",
    "Constraints\n",
    "\n",
    "Output Format\n",
    "\n",
    "Print a single integer denoting the maximum height at which all stacks will be of equal height.\n",
    "\n",
    "Sample Input\n",
    "\n",
    "5 3 4\n",
    "3 2 1 1 1\n",
    "4 3 2\n",
    "1 1 4 1\n",
    "\n",
    "Sample Output\n",
    "\n",
    "5\n",
    "\n",
    "Explanation\n",
    "\n",
    "Initially, the stacks look like this:\n",
    "\n",
    "initial stacks\n",
    "\n",
    "Observe that the three stacks are not all the same height. To make all stacks of equal height, we remove the first cylinder from stacks\n",
    "and , and then remove the top two cylinders from stack\n",
    "\n",
    "(shown below).\n",
    "\n",
    "modified stacks\n",
    "\n",
    "As a result, the stacks undergo the following change in height:\n",
    "\n",
    "All three stacks now have . Thus, we print as our answer.\n",
    "'''\n"
   ]
  },
  {
   "cell_type": "markdown",
   "metadata": {},
   "source": [
    "# Hakerrank Question\n",
    "___Link of question___ :-https://www.hackerrank.com/challenges/equal-stacks/problem"
   ]
  },
  {
   "cell_type": "code",
   "execution_count": 1,
   "metadata": {},
   "outputs": [
    {
     "name": "stdout",
     "output_type": "stream",
     "text": [
      "5 3 4\n",
      "3 2 1 1 1\n",
      "4 3 2\n",
      "1 1 4 1\n",
      "5\n"
     ]
    }
   ],
   "source": [
    "import sys \n",
    "def max_length(h1,h2,h3):\n",
    "    l1,l2,l3=0,0,0\n",
    "    for x in h1:\n",
    "        l1 = l1 + x\n",
    "    for x in h2:\n",
    "        l2 = l2 + x\n",
    "    for x in h3:\n",
    "        l3 =l3 + x\n",
    "    while l1 !=0 and l2 != 0 and l3 != 0 and (l1!=l2 or l2!=l3):\n",
    "        if max(l1, l2, l3) == l1:\n",
    "            l1 = l1 - h1[0]\n",
    "            h1.pop(0)\n",
    "        elif max(l1, l2, l3) == l2:\n",
    "            l2 = l2 - h2[0]\n",
    "            h2.pop(0)\n",
    "        else:\n",
    "            l3 = l3 - h3[0]\n",
    "            h3.pop(0)\n",
    "    else:\n",
    "        if l1==l2 and l2==l3:\n",
    "            return l1\n",
    "        else:\n",
    "            return 0\n",
    "#my logic was \n",
    "#find length of all 3 stacks\n",
    "# store them in l1, l2, l3\n",
    "# from the biggest stack, remove the last element,\n",
    "# update length\n",
    "# do until l1==l2==l3 or any one of l1, l2, l3 is 0\n",
    "\n",
    "\n",
    "#now I am going to take input \n",
    "\n",
    "n1,n2,n3 =input().strip().split(' ');\n",
    "n1,n2,n3 =[int(n1),int(n2),int(n3)]\n",
    "h1 = [int(h1_temp) for h1_temp in input().strip().split(' ')]\n",
    "h2 = [int(h2_temp) for h2_temp in input().strip().split(' ')]\n",
    "h3 = [int(h3_temp) for h3_temp in input().strip().split(' ')]\n",
    "\n",
    "print(max_length(h1,h2,h3))\n"
   ]
  },
  {
   "cell_type": "code",
   "execution_count": null,
   "metadata": {},
   "outputs": [],
   "source": []
  }
 ],
 "metadata": {
  "kernelspec": {
   "display_name": "Python 3",
   "language": "python",
   "name": "python3"
  },
  "language_info": {
   "codemirror_mode": {
    "name": "ipython",
    "version": 3
   },
   "file_extension": ".py",
   "mimetype": "text/x-python",
   "name": "python",
   "nbconvert_exporter": "python",
   "pygments_lexer": "ipython3",
   "version": "3.7.6"
  }
 },
 "nbformat": 4,
 "nbformat_minor": 4
}
