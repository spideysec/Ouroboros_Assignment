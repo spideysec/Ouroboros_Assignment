{
 "cells": [
  {
   "cell_type": "code",
   "execution_count": 7,
   "metadata": {},
   "outputs": [],
   "source": [
    "# Here we are going to impelment seletion sort.\n",
    "def selection_sort(L): \n",
    "    for i in range(len(L)-1):\n",
    "        min_index = i  #To find the minimum value of the unsorted segment\n",
    "                       #We first assume that the first element is the lowest \n",
    "        for j in range (i+1,len(L)-1): # Update the min_index if the element at j is lower than it\n",
    "            if L[j] < L[min_index]:\n",
    "                min_index = j\n",
    "        L[i], L[min_index] = L[min_index], L[i]\n",
    "        # After finding the lowest item of the unsorted regions, swap with the first unsorted item"
   ]
  },
  {
   "cell_type": "code",
   "execution_count": 15,
   "metadata": {},
   "outputs": [
    {
     "name": "stdout",
     "output_type": "stream",
     "text": [
      "Unsorted array is : [7, 32, 3, 6, 98, 12]\n",
      "Sorted array is : [3, 6, 7, 32, 98, 12]\n"
     ]
    }
   ],
   "source": [
    "L= [7,32,3,6,98,12]\n",
    "print('Unsorted array is :',L)\n",
    "selection_sort(L)\n",
    "print('Sorted array is :',L)"
   ]
  },
  {
   "cell_type": "code",
   "execution_count": null,
   "metadata": {},
   "outputs": [],
   "source": []
  },
  {
   "cell_type": "code",
   "execution_count": null,
   "metadata": {},
   "outputs": [],
   "source": []
  },
  {
   "cell_type": "code",
   "execution_count": null,
   "metadata": {},
   "outputs": [],
   "source": []
  }
 ],
 "metadata": {
  "kernelspec": {
   "display_name": "Python 3",
   "language": "python",
   "name": "python3"
  },
  "language_info": {
   "codemirror_mode": {
    "name": "ipython",
    "version": 3
   },
   "file_extension": ".py",
   "mimetype": "text/x-python",
   "name": "python",
   "nbconvert_exporter": "python",
   "pygments_lexer": "ipython3",
   "version": "3.7.6"
  }
 },
 "nbformat": 4,
 "nbformat_minor": 4
}
