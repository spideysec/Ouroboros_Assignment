{
 "cells": [
  {
   "cell_type": "code",
   "execution_count": 7,
   "metadata": {},
   "outputs": [
    {
     "name": "stdout",
     "output_type": "stream",
     "text": [
      "Given array is\n",
      "23 21 41 2 1 31 3\n",
      "Sorted array is : \n",
      "1 2 3 21 23 31 41\n"
     ]
    }
   ],
   "source": [
    "def merge_sort(values): \n",
    "\n",
    "    if len(values)>1: \n",
    "        m = len(values)//2\n",
    "        left = values[:m] \n",
    "        right = values[m:] \n",
    "        left = merge_sort(left) \n",
    "        right = merge_sort(right) \n",
    "\n",
    "        values =[] \n",
    "\n",
    "        while len(left)>0 and len(right)>0: \n",
    "            if left[0]<right[0]: \n",
    "                values.append(left[0]) \n",
    "                left.pop(0) \n",
    "            else: \n",
    "                values.append(right[0]) \n",
    "                right.pop(0) \n",
    "\n",
    "        for i in left: \n",
    "            values.append(i) \n",
    "        for i in right: \n",
    "            values.append(i) \n",
    "\n",
    "    return values \n",
    "\n",
    "# Input list \n",
    "a = [23,21,41,2,1,31,3] \n",
    "print(\"Given array is\") \n",
    "print(*a) \n",
    "\n",
    "a = merge_sort(a) \n",
    "\n",
    "# Print output \n",
    "print(\"Sorted array is : \") \n",
    "print(*a) \n",
    "\n",
    "\n"
   ]
  },
  {
   "cell_type": "code",
   "execution_count": null,
   "metadata": {},
   "outputs": [],
   "source": []
  },
  {
   "cell_type": "code",
   "execution_count": null,
   "metadata": {},
   "outputs": [],
   "source": []
  }
 ],
 "metadata": {
  "kernelspec": {
   "display_name": "Python 3",
   "language": "python",
   "name": "python3"
  },
  "language_info": {
   "codemirror_mode": {
    "name": "ipython",
    "version": 3
   },
   "file_extension": ".py",
   "mimetype": "text/x-python",
   "name": "python",
   "nbconvert_exporter": "python",
   "pygments_lexer": "ipython3",
   "version": "3.7.6"
  }
 },
 "nbformat": 4,
 "nbformat_minor": 4
}
